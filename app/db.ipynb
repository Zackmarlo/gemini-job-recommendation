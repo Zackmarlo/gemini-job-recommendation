{
 "cells": [
  {
   "cell_type": "code",
   "execution_count": 2,
   "id": "8bb1b8eb",
   "metadata": {},
   "outputs": [
    {
     "name": "stdout",
     "output_type": "stream",
     "text": [
      "Database created and seeded successfully!\n"
     ]
    }
   ],
   "source": [
    "import sqlite3\n",
    "\n",
    "# Connect to SQLite database (or create it if it doesn't exist)\n",
    "conn = sqlite3.connect(\"unified_frontend.db\")\n",
    "cursor = conn.cursor()\n",
    "\n",
    "\n",
    "# Table for storing job descriptions\n",
    "cursor.execute(\"\"\"\n",
    "CREATE TABLE IF NOT EXISTS job_descriptions (\n",
    "    id INTEGER PRIMARY KEY AUTOINCREMENT,\n",
    "    title TEXT NOT NULL,\n",
    "    description TEXT NOT NULL\n",
    ")\n",
    "\"\"\")\n",
    "\n",
    "# Table for storing user skills\n",
    "cursor.execute(\"\"\"\n",
    "CREATE TABLE IF NOT EXISTS skills (\n",
    "    id INTEGER PRIMARY KEY AUTOINCREMENT,\n",
    "    skill_name TEXT NOT NULL\n",
    ")\n",
    "\"\"\")\n",
    "\n",
    "\n",
    "# Seed some test data for job descriptions\n",
    "cursor.executemany(\"\"\"\n",
    "INSERT INTO job_descriptions (title, description) VALUES (?, ?)\n",
    "\"\"\", [\n",
    "    (\"Software Engineer\", \"Develop scalable software solutions using Python and cloud platforms.\"),\n",
    "    (\"Data Scientist\", \"Analyze datasets and build predictive models using machine learning.\"),\n",
    "    (\"Product Manager\", \"Lead product strategies and roadmaps for successful launches.\"),\n",
    "    (\"DevOps Engineer\", \"Manage CI/CD pipelines and cloud infrastructure for improved reliability.\"),\n",
    "    (\"UX/UI Designer\", \"Design intuitive and visually appealing user interfaces.\")\n",
    "])\n",
    "\n",
    "# Seed some test data for skills\n",
    "cursor.executemany(\"\"\"\n",
    "INSERT INTO skills (skill_name) VALUES (?)\n",
    "\"\"\", [\n",
    "    (\"Python\",),\n",
    "    (\"Machine Learning\",),\n",
    "    (\"SQL\",),\n",
    "    (\"Data Analysis\",)\n",
    "])\n",
    "\n",
    "\n",
    "# Commit and close connection\n",
    "conn.commit()\n",
    "conn.close()\n",
    "\n",
    "print(\"Database created and seeded successfully!\")"
   ]
  }
 ],
 "metadata": {
  "kernelspec": {
   "display_name": "Python 3",
   "language": "python",
   "name": "python3"
  },
  "language_info": {
   "codemirror_mode": {
    "name": "ipython",
    "version": 3
   },
   "file_extension": ".py",
   "mimetype": "text/x-python",
   "name": "python",
   "nbconvert_exporter": "python",
   "pygments_lexer": "ipython3",
   "version": "3.9.6"
  }
 },
 "nbformat": 4,
 "nbformat_minor": 5
}
